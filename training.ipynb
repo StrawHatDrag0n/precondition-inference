{
 "cells": [
  {
   "cell_type": "code",
   "execution_count": null,
   "id": "9a86bfa4",
   "metadata": {},
   "outputs": [],
   "source": [
    "import datasets\n",
    "import torch\n",
    "import numpy as np\n",
    "from sklearn.metrics import accuracy_score\n",
    "from transformers import AutoModelForSequenceClassification, AutoTokenizer, TrainingArguments, DataCollatorWithPadding, Trainer\n",
    "from transformers import AutoConfig"
   ]
  },
  {
   "cell_type": "code",
   "execution_count": null,
   "id": "aa494f5f",
   "metadata": {},
   "outputs": [],
   "source": [
    "data_files = {\n",
    "    'train': 'data/pnli_train.csv',\n",
    "    'validation': 'data/pnli_dev.csv',\n",
    "}"
   ]
  },
  {
   "cell_type": "code",
   "execution_count": null,
   "id": "b562b5a5",
   "metadata": {},
   "outputs": [],
   "source": [
    "raw_datasets = datasets.load_dataset('csv', data_files=data_files, column_names=['sentence1', 'sentence2', 'labels'])"
   ]
  },
  {
   "cell_type": "code",
   "execution_count": null,
   "id": "f09ad47c",
   "metadata": {},
   "outputs": [],
   "source": [
    "# checkpoint = 'sentence-transformers/all-MiniLM-L12-v2'\n",
    "# checkpoint_folder = 'sentence-transformers-all-MiniLM-L12-v2'\n",
    "\n",
    "checkpoint = 'facebook/bart-large-mnli'\n",
    "checkpoint_folder = 'facebook-bart-large-mnli'"
   ]
  },
  {
   "cell_type": "code",
   "execution_count": null,
   "id": "c2ed42b6",
   "metadata": {},
   "outputs": [],
   "source": [
    "tokenizer = AutoTokenizer.from_pretrained(checkpoint)"
   ]
  },
  {
   "cell_type": "code",
   "execution_count": null,
   "id": "7fbdb562",
   "metadata": {},
   "outputs": [],
   "source": [
    "data_collator = DataCollatorWithPadding(tokenizer=tokenizer)"
   ]
  },
  {
   "cell_type": "code",
   "execution_count": null,
   "id": "40e2456a",
   "metadata": {},
   "outputs": [],
   "source": [
    "def tokenize_function(example):\n",
    "    return tokenizer(example[\"sentence1\"], example[\"sentence2\"], truncation=True)"
   ]
  },
  {
   "cell_type": "code",
   "execution_count": null,
   "id": "ca0ddd8f",
   "metadata": {},
   "outputs": [],
   "source": [
    "tokenized_datasets = raw_datasets.map(tokenize_function, batched=True)"
   ]
  },
  {
   "cell_type": "code",
   "execution_count": null,
   "id": "b08aa569",
   "metadata": {},
   "outputs": [],
   "source": [
    "training_args = TrainingArguments(\n",
    "    'checkpoints/' + checkpoint_folder + 'checkpoint',\n",
    "    evaluation_strategy='steps',\n",
    "    num_train_epochs=10,\n",
    "    eval_steps=500,\n",
    "    warmup_steps=200,\n",
    "    metric_for_best_model='accuracy',\n",
    "    load_best_model_at_end=True\n",
    ")"
   ]
  },
  {
   "cell_type": "code",
   "execution_count": null,
   "id": "3f08b60b",
   "metadata": {},
   "outputs": [],
   "source": [
    "model = AutoModelForSequenceClassification.from_pretrained(checkpoint, num_labels=2, ignore_mismatched_sizes=True)"
   ]
  },
  {
   "cell_type": "code",
   "execution_count": null,
   "id": "3243bde9",
   "metadata": {},
   "outputs": [],
   "source": [
    "def compute_metrics(eval_preds):\n",
    "    print(type(eval_preds))\n",
    "    logits, labels = eval_preds\n",
    "    logits = logits[0]\n",
    "    predictions = np.argmax(logits, axis=1)\n",
    "    accuracy = accuracy_score(labels, predictions)\n",
    "    return {'accuracy': accuracy}"
   ]
  },
  {
   "cell_type": "code",
   "execution_count": null,
   "id": "12103759",
   "metadata": {},
   "outputs": [],
   "source": [
    "trainer = Trainer(\n",
    "    model,\n",
    "    training_args,\n",
    "    train_dataset=tokenized_datasets[\"train\"],\n",
    "    eval_dataset=tokenized_datasets[\"validation\"],\n",
    "    data_collator=data_collator,\n",
    "    compute_metrics=compute_metrics,\n",
    "    tokenizer=tokenizer,\n",
    ")"
   ]
  },
  {
   "cell_type": "code",
   "execution_count": null,
   "id": "8db99f68",
   "metadata": {},
   "outputs": [],
   "source": [
    "trainer.train()"
   ]
  },
  {
   "cell_type": "code",
   "execution_count": null,
   "id": "5ea66084",
   "metadata": {},
   "outputs": [],
   "source": [
    "trainer.evaluate(tokenized_datasets[\"validation\"])"
   ]
  },
  {
   "cell_type": "code",
   "execution_count": null,
   "id": "627053de",
   "metadata": {},
   "outputs": [],
   "source": [
    "trainer.save_model('models/' + checkpoint_folder)"
   ]
  },
  {
   "cell_type": "code",
   "execution_count": null,
   "id": "b24f965a",
   "metadata": {},
   "outputs": [],
   "source": [
    "raw_test_datasets = datasets.load_dataset('csv', data_files={'test': 'data/pnli_test_unlabeled.csv'}, column_names=['sentence1', 'sentence2', 'labels'])"
   ]
  },
  {
   "cell_type": "code",
   "execution_count": null,
   "id": "b288afc2",
   "metadata": {},
   "outputs": [],
   "source": [
    "tokenized_test_datasets = raw_test_datasets.map(tokenize_function, batched=True)"
   ]
  },
  {
   "cell_type": "code",
   "execution_count": null,
   "id": "bb21f12b",
   "metadata": {},
   "outputs": [],
   "source": [
    "tokenized_test_datasets['test'] = tokenized_test_datasets['test'].remove_columns(['sentence1', 'sentence2', 'labels'])"
   ]
  },
  {
   "cell_type": "code",
   "execution_count": null,
   "id": "e3b20e85",
   "metadata": {},
   "outputs": [],
   "source": [
    "tokenized_test_datasets.set_format(type='torch')"
   ]
  },
  {
   "cell_type": "code",
   "execution_count": null,
   "id": "8581b1de",
   "metadata": {},
   "outputs": [],
   "source": [
    "import gc\n",
    "\n",
    "gc.collect()\n",
    "\n",
    "torch.cuda.empty_cache()"
   ]
  },
  {
   "cell_type": "code",
   "execution_count": null,
   "id": "ee1fb54b",
   "metadata": {},
   "outputs": [],
   "source": [
    "predictions, _, _ = trainer.predict(tokenized_test_datasets['test'])"
   ]
  },
  {
   "cell_type": "code",
   "execution_count": null,
   "id": "0b034afc",
   "metadata": {},
   "outputs": [],
   "source": [
    "predictions = np.argmax(predictions, axis=1)"
   ]
  },
  {
   "cell_type": "code",
   "execution_count": null,
   "id": "3a13f3a3",
   "metadata": {},
   "outputs": [],
   "source": [
    "len(predictions)"
   ]
  },
  {
   "cell_type": "code",
   "execution_count": null,
   "id": "8d2ab909",
   "metadata": {},
   "outputs": [],
   "source": []
  }
 ],
 "metadata": {
  "kernelspec": {
   "display_name": "Python 3 (ipykernel)",
   "language": "python",
   "name": "python3"
  },
  "language_info": {
   "codemirror_mode": {
    "name": "ipython",
    "version": 3
   },
   "file_extension": ".py",
   "mimetype": "text/x-python",
   "name": "python",
   "nbconvert_exporter": "python",
   "pygments_lexer": "ipython3",
   "version": "3.8.13"
  }
 },
 "nbformat": 4,
 "nbformat_minor": 5
}
