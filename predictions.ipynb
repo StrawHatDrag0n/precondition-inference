{
 "cells": [
  {
   "cell_type": "code",
   "execution_count": 2,
   "id": "45909170",
   "metadata": {},
   "outputs": [],
   "source": [
    "import torch\n",
    "import datasets\n",
    "import numpy as np\n",
    "from transformers import AutoModelForSequenceClassification, AutoTokenizer"
   ]
  },
  {
   "cell_type": "code",
   "execution_count": 3,
   "id": "d9776ef6",
   "metadata": {},
   "outputs": [],
   "source": [
    "local_model_path = 'models/facebook-bart-large-mnli/'"
   ]
  },
  {
   "cell_type": "code",
   "execution_count": 4,
   "id": "07ee9fca",
   "metadata": {},
   "outputs": [],
   "source": [
    "model = AutoModelForSequenceClassification.from_pretrained(local_model_path, local_files_only=True, num_labels=2, ignore_mismatched_sizes=True)"
   ]
  },
  {
   "cell_type": "code",
   "execution_count": 5,
   "id": "8fed6532",
   "metadata": {},
   "outputs": [
    {
     "name": "stderr",
     "output_type": "stream",
     "text": [
      "Using custom data configuration default-7d31c80073d910f0\n",
      "Reusing dataset csv (C:\\Users\\yashv\\.cache\\huggingface\\datasets\\csv\\default-7d31c80073d910f0\\0.0.0\\433e0ccc46f9880962cc2b12065189766fbb2bee57a221866138fb9203c83519)\n"
     ]
    },
    {
     "data": {
      "application/vnd.jupyter.widget-view+json": {
       "model_id": "8985eacec3d84ad99b033f8f4cd33e7d",
       "version_major": 2,
       "version_minor": 0
      },
      "text/plain": [
       "  0%|          | 0/1 [00:00<?, ?it/s]"
      ]
     },
     "metadata": {},
     "output_type": "display_data"
    }
   ],
   "source": [
    "raw_datasets = datasets.load_dataset('csv', data_files={'test':'data/pnli_test_unlabeled.csv'}, column_names=['sentence1', 'sentence2', 'labels'])"
   ]
  },
  {
   "cell_type": "code",
   "execution_count": 6,
   "id": "5018507a",
   "metadata": {},
   "outputs": [],
   "source": [
    "tokenizer = AutoTokenizer.from_pretrained(local_model_path, local_files_only=True)"
   ]
  },
  {
   "cell_type": "code",
   "execution_count": 22,
   "id": "b5325054",
   "metadata": {},
   "outputs": [],
   "source": [
    "result = []\n",
    "for i in range(0, len(raw_datasets['test'][\"sentence1\"]), 100):\n",
    "    sentence1 = raw_datasets['test'][\"sentence1\"][i:i+100]\n",
    "    sentence2 = raw_datasets['test']['sentence2'][i:i+100]\n",
    "    tokenized_datasets = tokenizer(sentence1, sentence2, padding=True, \n",
    "                               truncation=True, return_tensors='pt')\n",
    "    pred = model(**tokenized_datasets)\n",
    "    pred = np.argmax(pred.logits.detach().numpy(), axis=1)\n",
    "    result.extend(pred)"
   ]
  },
  {
   "cell_type": "code",
   "execution_count": 23,
   "id": "b4dbe8eb",
   "metadata": {},
   "outputs": [
    {
     "data": {
      "text/plain": [
       "4850"
      ]
     },
     "execution_count": 23,
     "metadata": {},
     "output_type": "execute_result"
    }
   ],
   "source": [
    "len(result)"
   ]
  },
  {
   "cell_type": "code",
   "execution_count": 25,
   "id": "5d800f0b",
   "metadata": {},
   "outputs": [],
   "source": [
    "with open('upload_predictions.txt', 'w', encoding = 'utf-8') as fp:\n",
    "    for x in result:\n",
    "        fp.write(str(x) + '\\n')"
   ]
  },
  {
   "cell_type": "code",
   "execution_count": 27,
   "id": "a6da3d0c",
   "metadata": {},
   "outputs": [],
   "source": [
    "results = [int(x) for x in result]"
   ]
  },
  {
   "cell_type": "code",
   "execution_count": 28,
   "id": "80e6b95a",
   "metadata": {},
   "outputs": [],
   "source": [
    "import gc\n",
    "\n",
    "gc.collect()\n",
    "\n",
    "torch.cuda.empty_cache()"
   ]
  },
  {
   "cell_type": "code",
   "execution_count": null,
   "id": "f19ac611",
   "metadata": {},
   "outputs": [],
   "source": [
    "import os\n",
    "os._exit(00)"
   ]
  },
  {
   "cell_type": "code",
   "execution_count": null,
   "id": "df37518d",
   "metadata": {},
   "outputs": [],
   "source": []
  },
  {
   "cell_type": "code",
   "execution_count": null,
   "id": "d53d2852",
   "metadata": {},
   "outputs": [],
   "source": []
  },
  {
   "cell_type": "code",
   "execution_count": null,
   "id": "4d1e64d8",
   "metadata": {},
   "outputs": [],
   "source": []
  }
 ],
 "metadata": {
  "kernelspec": {
   "display_name": "Python 3 (ipykernel)",
   "language": "python",
   "name": "python3"
  },
  "language_info": {
   "codemirror_mode": {
    "name": "ipython",
    "version": 3
   },
   "file_extension": ".py",
   "mimetype": "text/x-python",
   "name": "python",
   "nbconvert_exporter": "python",
   "pygments_lexer": "ipython3",
   "version": "3.8.13"
  }
 },
 "nbformat": 4,
 "nbformat_minor": 5
}
